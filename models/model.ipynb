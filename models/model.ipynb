import pandas as pd
from sklearn.model_selection import train_test_split
from sklearn.ensemble import RandomForestClassifier
from sklearn.metrics import classification_report, accuracy_score
from sklearn.preprocessing import OneHotEncoder
from sklearn.compose import ColumnTransformer
from sklearn.pipeline import Pipeline
from sklearn.impute import SimpleImputer

# Load your full dataset here (use OpenSky or Kaggle)
# df = pd.read_csv("flight_data.csv")

# Simulate small dataset for structure
data = {
    "FlightDate": ["2021-01-01", "2021-01-01", "2021-01-02"],
    "Carrier": ["AA", "DL", "UA"],
    "Origin": ["JFK", "LAX", "ORD"],
    "Dest": ["LAX", "JFK", "ATL"],
    "CRSDepTime": [800, 930, 1100],
    "DepDelay": [10, -5, 45],
    "Distance": [2475, 2475, 606],
    "WeatherDelay": [0, 0, 15]
}
df = pd.DataFrame(data)

# Create label: Delayed = 1 if DepDelay >= 15
df['Delayed'] = df['DepDelay'].apply(lambda x: 1 if x >= 15 else 0)

# Define features and target
X = df[["Carrier", "Origin", "Dest", "CRSDepTime", "Distance", "WeatherDelay"]]
y = df["Delayed"]

# Train-test split
X_train, X_test, y_train, y_test = train_test_split(X, y, test_size=0.3, random_state=42)

# Preprocessing pipeline
categorical_features = ["Carrier", "Origin", "Dest"]
numerical_features = ["CRSDepTime", "Distance", "WeatherDelay"]

preprocessor = ColumnTransformer(transformers=[
    ('cat', OneHotEncoder(handle_unknown='ignore'), categorical_features),
    ('num', SimpleImputer(strategy='mean'), numerical_features)
])

pipeline = Pipeline(steps=[
    ('preprocessor', preprocessor),
    ('classifier', RandomForestClassifier(random_state=42))
])

# Train
pipeline.fit(X_train, y_train)

# Predict and Evaluate
y_pred = pipeline.predict(X_test)
print("Accuracy:", accuracy_score(y_test, y_pred))
print("Report:\n", classification_report(y_test, y_pred))
