{
 "cells": [
  {
   "cell_type": "code",
   "execution_count": 10,
   "id": "568d42a5",
   "metadata": {},
   "outputs": [
    {
     "name": "stderr",
     "output_type": "stream",
     "text": [
      "<>:10: SyntaxWarning: invalid escape sequence '\\d'\n",
      "<>:10: SyntaxWarning: invalid escape sequence '\\d'\n",
      "C:\\Users\\Admin\\AppData\\Local\\Temp\\ipykernel_19700\\713703497.py:10: SyntaxWarning: invalid escape sequence '\\d'\n",
      "  df = pd.read_csv(\"D:/ai-air-traffic-management\\data\\simulated_aircraft_positions.csv\")\n"
     ]
    },
    {
     "data": {
      "text/plain": [
       "[]"
      ]
     },
     "execution_count": 10,
     "metadata": {},
     "output_type": "execute_result"
    }
   ],
   "source": [
    "# conflict_detection.ipynb\n",
    "\n",
    "import pandas as pd\n",
    "import sys\n",
    "import os\n",
    "sys.path.append(os.path.abspath(os.path.join('..', 'utils')))\n",
    "from geo_utils import predict_position, is_conflict\n",
    "\n",
    "# Load aircraft data (sample format)\n",
    "df = pd.read_csv(\"D:/ai-air-traffic-management\\data\\simulated_aircraft_positions.csv\")\n",
    "\n",
    "# Preview structure\n",
    "df.head()\n",
    "\n",
    "# Simulate positions after 10 minutes\n",
    "future_positions = []\n",
    "\n",
    "for i, row in df.iterrows():\n",
    "    lat, lon = predict_position(\n",
    "        lat=row['latitude'],\n",
    "        lon=row['longitude'],\n",
    "        speed=row['velocity'],\n",
    "        heading=row['heading'],\n",
    "        minutes_ahead=10\n",
    "    )\n",
    "    future_positions.append({\n",
    "        'icao24': row['icao24'],\n",
    "        'callsign': row['callsign'],\n",
    "        'lat': lat,\n",
    "        'lon': lon,\n",
    "        'alt': row['baro_altitude']\n",
    "    })\n",
    "\n",
    "future_df = pd.DataFrame(future_positions)\n",
    "\n",
    "# Check for conflicts\n",
    "conflicts = []\n",
    "for i in range(len(future_df)):\n",
    "    for j in range(i + 1, len(future_df)):\n",
    "        ac1 = future_df.iloc[i]\n",
    "        ac2 = future_df.iloc[j]\n",
    "        if is_conflict(ac1, ac2):\n",
    "            conflicts.append((ac1['callsign'], ac2['callsign']))\n",
    "\n",
    "conflicts\n"
   ]
  },
  {
   "cell_type": "code",
   "execution_count": 11,
   "id": "7e69fefe",
   "metadata": {},
   "outputs": [
    {
     "name": "stdout",
     "output_type": "stream",
     "text": [
      "Requirement already satisfied: geo_utils in c:\\users\\admin\\appdata\\local\\programs\\python\\python313\\lib\\site-packages (0.1)\n",
      "Requirement already satisfied: nose>=0.11 in c:\\users\\admin\\appdata\\local\\programs\\python\\python313\\lib\\site-packages (from geo_utils) (1.3.7)\n",
      "Requirement already satisfied: numpy>=1.4.1 in c:\\users\\admin\\appdata\\local\\programs\\python\\python313\\lib\\site-packages (from geo_utils) (2.3.0)\n",
      "Note: you may need to restart the kernel to use updated packages.\n"
     ]
    }
   ],
   "source": [
    "pip install geo_utils\n"
   ]
  }
 ],
 "metadata": {
  "kernelspec": {
   "display_name": "Python 3",
   "language": "python",
   "name": "python3"
  },
  "language_info": {
   "codemirror_mode": {
    "name": "ipython",
    "version": 3
   },
   "file_extension": ".py",
   "mimetype": "text/x-python",
   "name": "python",
   "nbconvert_exporter": "python",
   "pygments_lexer": "ipython3",
   "version": "3.13.4"
  }
 },
 "nbformat": 4,
 "nbformat_minor": 5
}
